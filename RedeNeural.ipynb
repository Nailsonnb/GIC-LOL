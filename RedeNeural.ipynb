{
 "cells": [
  {
   "cell_type": "code",
   "execution_count": 1,
   "metadata": {},
   "outputs": [],
   "source": [
    "import pandas as pd\n",
    "from sklearn.model_selection import train_test_split\n",
    "from sklearn.neural_network import MLPClassifier\n",
    "from sklearn import preprocessing\n",
    "from sklearn.metrics import confusion_matrix"
   ]
  },
  {
   "cell_type": "code",
   "execution_count": 2,
   "metadata": {},
   "outputs": [
    {
     "name": "stdout",
     "output_type": "stream",
     "text": [
      "0.549517966696\n",
      "-------------------\n",
      "[[  0   0]\n",
      " [514 627]]\n"
     ]
    }
   ],
   "source": [
    "#Carregamento dos dados\n",
    "datatrain = pd.read_csv('D:/Nailson/5 periodo/GIC/league of References/agora vai/21-11/WinRateNN4.csv', sep=',')\n",
    "\n",
    "# transformando dados num array\n",
    "datatrain_array = datatrain.as_matrix()\n",
    "\n",
    "# Dividindo em treino e teste\n",
    "X_train, X_test, y_train, y_test = train_test_split(datatrain_array[:,:10], \n",
    "                                                    datatrain_array[:,10], \n",
    "                                                    test_size=0.3)\n",
    "#criando rede neural e definindo os parametro\n",
    "mlp = MLPClassifier(hidden_layer_sizes=(100),solver='sgd',learning_rate_init=0.01,max_iter=500)\n",
    "# Treino\n",
    "mlp.fit(X_train, y_train)\n",
    "# Teste\n",
    "Score = mlp.score(X_test,y_test)\n",
    "y_pred = mlp.predict(X_test)\n",
    "print(Score)\n",
    "print(\"-------------------\")\n",
    "#Criando matrix de confusão\n",
    "cm = confusion_matrix(y_pred, y_test)\n",
    "print(cm)"
   ]
  },
  {
   "cell_type": "code",
   "execution_count": 3,
   "metadata": {},
   "outputs": [
    {
     "name": "stdout",
     "output_type": "stream",
     "text": [
      "0.539877300613\n",
      "-------------------\n",
      "[[  0   0]\n",
      " [525 616]]\n"
     ]
    }
   ],
   "source": [
    "#Carregamento dos dados\n",
    "datatrain = pd.read_csv('D:/Nailson/5 periodo/GIC/league of References/agora vai/21-11/WinRateNN4.csv', sep=',')\n",
    "\n",
    "# transformando dados num array\n",
    "datatrain_array = datatrain.as_matrix()\n",
    "\n",
    "# Dividindo em treino e teste\n",
    "X_train, X_test, y_train, y_test = train_test_split(datatrain_array[:,:10], \n",
    "                                                    datatrain_array[:,10], \n",
    "                                                    test_size=0.3)\n",
    "#criando rede neural e definindo os parametro\n",
    "mlp = MLPClassifier(hidden_layer_sizes=(200),solver='sgd',learning_rate_init=0.01,max_iter=500)\n",
    "# Treino\n",
    "mlp.fit(X_train, y_train)\n",
    "# Teste\n",
    "Score = mlp.score(X_test,y_test)\n",
    "y_pred = mlp.predict(X_test)\n",
    "print(Score)\n",
    "print(\"-------------------\")\n",
    "#Criando matrix de confusão\n",
    "cm = confusion_matrix(y_pred, y_test)\n",
    "print(cm)"
   ]
  },
  {
   "cell_type": "code",
   "execution_count": 4,
   "metadata": {},
   "outputs": [
    {
     "name": "stdout",
     "output_type": "stream",
     "text": [
      "0.461875547765\n",
      "-------------------\n",
      "[[487 605]\n",
      " [  9  40]]\n"
     ]
    }
   ],
   "source": [
    "#Carregamento dos dados\n",
    "datatrain = pd.read_csv('D:/Nailson/5 periodo/GIC/league of References/agora vai/21-11/WinRateNN4.csv', sep=',')\n",
    "\n",
    "# transformando dados num array\n",
    "datatrain_array = datatrain.as_matrix()\n",
    "\n",
    "# Dividindo em treino e teste\n",
    "X_train, X_test, y_train, y_test = train_test_split(datatrain_array[:,:10], \n",
    "                                                    datatrain_array[:,10], \n",
    "                                                    test_size=0.3)\n",
    "#criando rede neural e definindo os parametro\n",
    "mlp = MLPClassifier(hidden_layer_sizes=(100),solver='adam',learning_rate_init=0.01,max_iter=500)\n",
    "# Treino\n",
    "mlp.fit(X_train, y_train)\n",
    "# Teste\n",
    "Score = mlp.score(X_test,y_test)\n",
    "y_pred = mlp.predict(X_test)\n",
    "print(Score)\n",
    "print(\"-------------------\")\n",
    "#Criando matrix de confusão\n",
    "cm = confusion_matrix(y_pred, y_test)\n",
    "print(cm)"
   ]
  },
  {
   "cell_type": "code",
   "execution_count": 5,
   "metadata": {},
   "outputs": [
    {
     "name": "stdout",
     "output_type": "stream",
     "text": [
      "0.537248028046\n",
      "-------------------\n",
      "[[  0   0]\n",
      " [528 613]]\n"
     ]
    }
   ],
   "source": [
    "#Carregamento dos dados\n",
    "datatrain = pd.read_csv('D:/Nailson/5 periodo/GIC/league of References/agora vai/21-11/WinRateNN4.csv', sep=',')\n",
    "\n",
    "# transformando dados num array\n",
    "datatrain_array = datatrain.as_matrix()\n",
    "\n",
    "# Dividindo em treino e teste\n",
    "X_train, X_test, y_train, y_test = train_test_split(datatrain_array[:,:10], \n",
    "                                                    datatrain_array[:,10], \n",
    "                                                    test_size=0.3)\n",
    "#criando rede neural e definindo os parametro\n",
    "mlp = MLPClassifier(hidden_layer_sizes=(200),solver='adam',learning_rate_init=0.01,max_iter=1000)\n",
    "# Treino\n",
    "mlp.fit(X_train, y_train)\n",
    "# Teste\n",
    "Score = mlp.score(X_test,y_test)\n",
    "y_pred = mlp.predict(X_test)\n",
    "print(Score)\n",
    "\n",
    "print(\"-------------------\")\n",
    "\n",
    "#Criando matrix de confusão\n",
    "cm = confusion_matrix(y_pred, y_test)\n",
    "print(cm)"
   ]
  },
  {
   "cell_type": "code",
   "execution_count": 6,
   "metadata": {},
   "outputs": [
    {
     "name": "stdout",
     "output_type": "stream",
     "text": [
      "0.537248028046\n",
      "-------------------\n",
      "[[  2   1]\n",
      " [527 611]]\n"
     ]
    }
   ],
   "source": [
    "#Carregamento dos dados\n",
    "datatrain = pd.read_csv('D:/Nailson/5 periodo/GIC/league of References/agora vai/21-11/WinRateNN4.csv', sep=',')\n",
    "\n",
    "# transformando dados num array\n",
    "datatrain_array = datatrain.as_matrix()\n",
    "\n",
    "# Dividindo em treino e teste\n",
    "X_train, X_test, y_train, y_test = train_test_split(datatrain_array[:,:10], \n",
    "                                                    datatrain_array[:,10], \n",
    "                                                    test_size=0.3)\n",
    "#criando rede neural e definindo os parametro\n",
    "mlp = MLPClassifier(hidden_layer_sizes=(200),solver='adam',learning_rate_init=0.01,max_iter=1000)\n",
    "# Treino\n",
    "mlp.fit(X_train, y_train)\n",
    "# Teste\n",
    "Score = mlp.score(X_test,y_test)\n",
    "y_pred = mlp.predict(X_test)\n",
    "print(Score)\n",
    "\n",
    "print(\"-------------------\")\n",
    "\n",
    "#Criando matrix de confusão\n",
    "cm = confusion_matrix(y_pred, y_test)\n",
    "print(cm)"
   ]
  },
  {
   "cell_type": "code",
   "execution_count": null,
   "metadata": {
    "collapsed": true
   },
   "outputs": [],
   "source": []
  },
  {
   "cell_type": "code",
   "execution_count": 7,
   "metadata": {},
   "outputs": [
    {
     "name": "stdout",
     "output_type": "stream",
     "text": [
      "0.57181088314\n",
      "-------------------\n",
      "[[  0   0]\n",
      " [480 641]]\n"
     ]
    }
   ],
   "source": [
    "#Carregamento dos dados\n",
    "datatrain = pd.read_csv('D:/Nailson/5 periodo/GIC/league of References/agora vai/21-11/WinRateMaiorDeDez.csv', sep=',')\n",
    "\n",
    "# transformando dados num array\n",
    "datatrain_array = datatrain.as_matrix()\n",
    "\n",
    "# Dividindo em treino e teste\n",
    "X_train, X_test, y_train, y_test = train_test_split(datatrain_array[:,:10], \n",
    "                                                    datatrain_array[:,10], \n",
    "                                                    test_size=0.3)\n",
    "#criando rede neural e definindo os parametro\n",
    "mlp = MLPClassifier(hidden_layer_sizes=(100),solver='sgd',learning_rate_init=0.01,max_iter=500)\n",
    "# Treino\n",
    "mlp.fit(X_train, y_train)\n",
    "# Teste\n",
    "Score = mlp.score(X_test,y_test)\n",
    "y_pred = mlp.predict(X_test)\n",
    "print(Score)\n",
    "\n",
    "print(\"-------------------\")\n",
    "\n",
    "#Criando matrix de confusão\n",
    "cm = confusion_matrix(y_pred, y_test)\n",
    "print(cm)"
   ]
  },
  {
   "cell_type": "code",
   "execution_count": 8,
   "metadata": {},
   "outputs": [
    {
     "name": "stdout",
     "output_type": "stream",
     "text": [
      "0.536128456735\n",
      "-------------------\n",
      "[[  0   0]\n",
      " [520 601]]\n"
     ]
    }
   ],
   "source": [
    "#Carregamento dos dados\n",
    "datatrain = pd.read_csv('D:/Nailson/5 periodo/GIC/league of References/agora vai/21-11/WinRateMaiorDeDez.csv', sep=',')\n",
    "\n",
    "# transformando dados num array\n",
    "datatrain_array = datatrain.as_matrix()\n",
    "\n",
    "# Dividindo em treino e teste\n",
    "X_train, X_test, y_train, y_test = train_test_split(datatrain_array[:,:10], \n",
    "                                                    datatrain_array[:,10], \n",
    "                                                    test_size=0.3)\n",
    "#criando rede neural e definindo os parametro\n",
    "mlp = MLPClassifier(hidden_layer_sizes=(200),solver='sgd',learning_rate_init=0.01,max_iter=500)\n",
    "# Treino\n",
    "mlp.fit(X_train, y_train)\n",
    "# Teste\n",
    "Score = mlp.score(X_test,y_test)\n",
    "y_pred = mlp.predict(X_test)\n",
    "print(Score)\n",
    "\n",
    "print(\"-------------------\")\n",
    "\n",
    "#Criando matrix de confusão\n",
    "cm = confusion_matrix(y_pred, y_test)\n",
    "print(cm)"
   ]
  },
  {
   "cell_type": "code",
   "execution_count": 9,
   "metadata": {},
   "outputs": [
    {
     "name": "stdout",
     "output_type": "stream",
     "text": [
      "0.530776092774\n",
      "-------------------\n",
      "[[ 12   3]\n",
      " [523 583]]\n"
     ]
    }
   ],
   "source": [
    "#Carregamento dos dados\n",
    "datatrain = pd.read_csv('D:/Nailson/5 periodo/GIC/league of References/agora vai/21-11/WinRateMaiorDeDez.csv', sep=',')\n",
    "\n",
    "# transformando dados num array\n",
    "datatrain_array = datatrain.as_matrix()\n",
    "\n",
    "# Dividindo em treino e teste\n",
    "X_train, X_test, y_train, y_test = train_test_split(datatrain_array[:,:10], \n",
    "                                                    datatrain_array[:,10], \n",
    "                                                    test_size=0.3)\n",
    "#criando rede neural e definindo os parametro\n",
    "mlp = MLPClassifier(hidden_layer_sizes=(100),solver='adam',learning_rate_init=0.01,max_iter=500)\n",
    "# Treino\n",
    "mlp.fit(X_train, y_train)\n",
    "# Teste\n",
    "Score = mlp.score(X_test,y_test)\n",
    "y_pred = mlp.predict(X_test)\n",
    "print(Score)\n",
    "\n",
    "print(\"-------------------\")\n",
    "\n",
    "#Criando matrix de confusão\n",
    "cm = confusion_matrix(y_pred, y_test)\n",
    "print(cm)"
   ]
  },
  {
   "cell_type": "code",
   "execution_count": 10,
   "metadata": {},
   "outputs": [
    {
     "name": "stdout",
     "output_type": "stream",
     "text": [
      "0.5727029438\n",
      "-------------------\n",
      "[[ 75  42]\n",
      " [437 567]]\n"
     ]
    }
   ],
   "source": [
    "#Carregamento dos dados\n",
    "datatrain = pd.read_csv('D:/Nailson/5 periodo/GIC/league of References/agora vai/21-11/WinRateMaiorDeDez.csv', sep=',')\n",
    "\n",
    "# transformando dados num array\n",
    "datatrain_array = datatrain.as_matrix()\n",
    "\n",
    "# Dividindo em treino e teste\n",
    "X_train, X_test, y_train, y_test = train_test_split(datatrain_array[:,:10], \n",
    "                                                    datatrain_array[:,10], \n",
    "                                                    test_size=0.3)\n",
    "#criando rede neural e definindo os parametro\n",
    "mlp = MLPClassifier(hidden_layer_sizes=(200),solver='adam',learning_rate_init=0.01,max_iter=1000)\n",
    "# Treino\n",
    "mlp.fit(X_train, y_train)\n",
    "# Teste\n",
    "Score = mlp.score(X_test,y_test)\n",
    "y_pred = mlp.predict(X_test)\n",
    "print(Score)\n",
    "\n",
    "print(\"-------------------\")\n",
    "\n",
    "#Criando matrix de confusão\n",
    "cm = confusion_matrix(y_pred, y_test)\n",
    "print(cm)"
   ]
  },
  {
   "cell_type": "code",
   "execution_count": null,
   "metadata": {
    "collapsed": true
   },
   "outputs": [],
   "source": []
  },
  {
   "cell_type": "code",
   "execution_count": 11,
   "metadata": {},
   "outputs": [
    {
     "name": "stdout",
     "output_type": "stream",
     "text": [
      "0.544157002676\n",
      "-------------------\n",
      "[[  0   0]\n",
      " [511 610]]\n"
     ]
    }
   ],
   "source": [
    "#Carregamento dos dados\n",
    "datatrain = pd.read_csv('D:/Nailson/5 periodo/GIC/league of References/agora vai/21-11/WinRateMaiorDeDezComOuro5.csv', sep=';')\n",
    "\n",
    "# transformando dados num array\n",
    "datatrain_array = datatrain.as_matrix()\n",
    "\n",
    "# Dividindo em treino e teste\n",
    "X_train, X_test, y_train, y_test = train_test_split(datatrain_array[:,:12], \n",
    "                                                    datatrain_array[:,12], \n",
    "                                                    test_size=0.3)\n",
    "#criando rede neural e definindo os parametro\n",
    "mlp = MLPClassifier(hidden_layer_sizes=(100),solver='sgd',learning_rate_init=0.01,max_iter=500)\n",
    "# Treino\n",
    "mlp.fit(X_train, y_train)\n",
    "# Teste\n",
    "Score = mlp.score(X_test,y_test)\n",
    "y_pred = mlp.predict(X_test)\n",
    "print(Score)\n",
    "\n",
    "print(\"-------------------\")\n",
    "\n",
    "#Criando matrix de confusão\n",
    "cm = confusion_matrix(y_pred, y_test)\n",
    "print(cm)"
   ]
  },
  {
   "cell_type": "code",
   "execution_count": 12,
   "metadata": {},
   "outputs": [
    {
     "name": "stdout",
     "output_type": "stream",
     "text": [
      "0.547725245317\n",
      "-------------------\n",
      "[[  0   0]\n",
      " [507 614]]\n"
     ]
    }
   ],
   "source": [
    "#Carregamento dos dados\n",
    "datatrain = pd.read_csv('D:/Nailson/5 periodo/GIC/league of References/agora vai/21-11/WinRateMaiorDeDezComOuro5.csv', sep=';')\n",
    "\n",
    "# transformando dados num array\n",
    "datatrain_array = datatrain.as_matrix()\n",
    "\n",
    "# Dividindo em treino e teste\n",
    "X_train, X_test, y_train, y_test = train_test_split(datatrain_array[:,:12], \n",
    "                                                    datatrain_array[:,12], \n",
    "                                                    test_size=0.3)\n",
    "#criando rede neural e definindo os parametro\n",
    "mlp = MLPClassifier(hidden_layer_sizes=(200),solver='sgd',learning_rate_init=0.01,max_iter=500)\n",
    "# Treino\n",
    "mlp.fit(X_train, y_train)\n",
    "# Teste\n",
    "Score = mlp.score(X_test,y_test)\n",
    "y_pred = mlp.predict(X_test)\n",
    "print(Score)\n",
    "\n",
    "print(\"-------------------\")\n",
    "\n",
    "#Criando matrix de confusão\n",
    "cm = confusion_matrix(y_pred, y_test)\n",
    "print(cm)"
   ]
  },
  {
   "cell_type": "code",
   "execution_count": 13,
   "metadata": {},
   "outputs": [
    {
     "name": "stdout",
     "output_type": "stream",
     "text": [
      "0.589652096343\n",
      "-------------------\n",
      "[[427 347]\n",
      " [113 234]]\n"
     ]
    }
   ],
   "source": [
    "#Carregamento dos dados\n",
    "datatrain = pd.read_csv('D:/Nailson/5 periodo/GIC/league of References/agora vai/21-11/WinRateMaiorDeDezComOuro5.csv', sep=';')\n",
    "\n",
    "# transformando dados num array\n",
    "datatrain_array = datatrain.as_matrix()\n",
    "\n",
    "# Dividindo em treino e teste\n",
    "X_train, X_test, y_train, y_test = train_test_split(datatrain_array[:,:12], \n",
    "                                                    datatrain_array[:,12], \n",
    "                                                    test_size=0.3)\n",
    "#criando rede neural e definindo os parametro\n",
    "mlp = MLPClassifier(hidden_layer_sizes=(100),solver='adam',learning_rate_init=0.01,max_iter=500)\n",
    "# Treino\n",
    "mlp.fit(X_train, y_train)\n",
    "# Teste\n",
    "Score = mlp.score(X_test,y_test)\n",
    "y_pred = mlp.predict(X_test)\n",
    "print(Score)\n",
    "\n",
    "print(\"-------------------\")\n",
    "\n",
    "#Criando matrix de confusão\n",
    "cm = confusion_matrix(y_pred, y_test)\n",
    "print(cm)"
   ]
  },
  {
   "cell_type": "code",
   "execution_count": 14,
   "metadata": {},
   "outputs": [
    {
     "name": "stdout",
     "output_type": "stream",
     "text": [
      "0.593220338983\n",
      "-------------------\n",
      "[[112  51]\n",
      " [405 553]]\n"
     ]
    }
   ],
   "source": [
    "#Carregamento dos dados\n",
    "datatrain = pd.read_csv('D:/Nailson/5 periodo/GIC/league of References/agora vai/21-11/WinRateMaiorDeDezComOuro5.csv', sep=';')\n",
    "\n",
    "# transformando dados num array\n",
    "datatrain_array = datatrain.as_matrix()\n",
    "\n",
    "# Dividindo em treino e teste\n",
    "X_train, X_test, y_train, y_test = train_test_split(datatrain_array[:,:12], \n",
    "                                                    datatrain_array[:,12], \n",
    "                                                    test_size=0.3)\n",
    "#criando rede neural e definindo os parametro\n",
    "mlp = MLPClassifier(hidden_layer_sizes=(200),solver='adam',learning_rate_init=0.01,max_iter=1000)\n",
    "# Treino\n",
    "mlp.fit(X_train, y_train)\n",
    "# Teste\n",
    "Score = mlp.score(X_test,y_test)\n",
    "y_pred = mlp.predict(X_test)\n",
    "print(Score)\n",
    "\n",
    "print(\"-------------------\")\n",
    "\n",
    "#Criando matrix de confusão\n",
    "cm = confusion_matrix(y_pred, y_test)\n",
    "print(cm)"
   ]
  },
  {
   "cell_type": "code",
   "execution_count": null,
   "metadata": {
    "collapsed": true
   },
   "outputs": [],
   "source": []
  },
  {
   "cell_type": "code",
   "execution_count": 15,
   "metadata": {},
   "outputs": [
    {
     "name": "stdout",
     "output_type": "stream",
     "text": [
      "0.539696699376\n",
      "-------------------\n",
      "[[  0   0]\n",
      " [516 605]]\n"
     ]
    }
   ],
   "source": [
    "#Carregamento dos dados\n",
    "datatrain = pd.read_csv('D:/Nailson/5 periodo/GIC/league of References/agora vai/21-11/WinRateMaiorDeDezMediaEOuro.csv', sep=';')\n",
    "\n",
    "# transformando dados num array\n",
    "datatrain_array = datatrain.as_matrix()\n",
    "\n",
    "# Dividindo em treino e teste\n",
    "X_train, X_test, y_train, y_test = train_test_split(datatrain_array[:,:4], \n",
    "                                                    datatrain_array[:,4], \n",
    "                                                    test_size=0.3)\n",
    "#criando rede neural e definindo os parametro\n",
    "mlp = MLPClassifier(hidden_layer_sizes=(100),solver='sgd',learning_rate_init=0.01,max_iter=500)\n",
    "# Treino\n",
    "mlp.fit(X_train, y_train)\n",
    "# Teste\n",
    "Score = mlp.score(X_test,y_test)\n",
    "y_pred = mlp.predict(X_test)\n",
    "print(Score)\n",
    "\n",
    "print(\"-------------------\")\n",
    "\n",
    "#Criando matrix de confusão\n",
    "cm = confusion_matrix(y_pred, y_test)\n",
    "print(cm)"
   ]
  },
  {
   "cell_type": "code",
   "execution_count": 16,
   "metadata": {},
   "outputs": [
    {
     "name": "stdout",
     "output_type": "stream",
     "text": [
      "0.555753791258\n",
      "-------------------\n",
      "[[  0   0]\n",
      " [498 623]]\n"
     ]
    }
   ],
   "source": [
    "#Carregamento dos dados\n",
    "datatrain = pd.read_csv('D:/Nailson/5 periodo/GIC/league of References/agora vai/21-11/WinRateMaiorDeDezMediaEOuro.csv', sep=';')\n",
    "\n",
    "# transformando dados num array\n",
    "datatrain_array = datatrain.as_matrix()\n",
    "\n",
    "# Dividindo em treino e teste\n",
    "X_train, X_test, y_train, y_test = train_test_split(datatrain_array[:,:4], \n",
    "                                                    datatrain_array[:,4], \n",
    "                                                    test_size=0.3)\n",
    "#criando rede neural e definindo os parametro\n",
    "mlp = MLPClassifier(hidden_layer_sizes=(200),solver='sgd',learning_rate_init=0.01,max_iter=500)\n",
    "# Treino\n",
    "mlp.fit(X_train, y_train)\n",
    "# Teste\n",
    "Score = mlp.score(X_test,y_test)\n",
    "y_pred = mlp.predict(X_test)\n",
    "print(Score)\n",
    "\n",
    "print(\"-------------------\")\n",
    "\n",
    "#Criando matrix de confusão\n",
    "cm = confusion_matrix(y_pred, y_test)\n",
    "print(cm)"
   ]
  },
  {
   "cell_type": "code",
   "execution_count": 20,
   "metadata": {},
   "outputs": [
    {
     "name": "stdout",
     "output_type": "stream",
     "text": [
      "0.630686886708\n",
      "-------------------\n",
      "[[196 119]\n",
      " [295 511]]\n"
     ]
    }
   ],
   "source": [
    "#Carregamento dos dados\n",
    "datatrain = pd.read_csv('D:/Nailson/5 periodo/GIC/league of References/agora vai/21-11/WinRateMaiorDeDezMediaEOuro.csv', sep=';')\n",
    "\n",
    "# transformando dados num array\n",
    "datatrain_array = datatrain.as_matrix()\n",
    "\n",
    "# Dividindo em treino e teste\n",
    "X_train, X_test, y_train, y_test = train_test_split(datatrain_array[:,:4], \n",
    "                                                    datatrain_array[:,4], \n",
    "                                                    test_size=0.3)\n",
    "#criando rede neural e definindo os parametro\n",
    "mlp = MLPClassifier(hidden_layer_sizes=(100),solver='adam',learning_rate_init=0.01,max_iter=500)\n",
    "# Treino\n",
    "mlp.fit(X_train, y_train)\n",
    "# Teste\n",
    "Score = mlp.score(X_test,y_test)\n",
    "y_pred = mlp.predict(X_test)\n",
    "print(Score)\n",
    "\n",
    "print(\"-------------------\")\n",
    "\n",
    "#Criando matrix de confusão\n",
    "cm = confusion_matrix(y_pred, y_test)\n",
    "print(cm)"
   ]
  },
  {
   "cell_type": "code",
   "execution_count": 22,
   "metadata": {},
   "outputs": [
    {
     "name": "stdout",
     "output_type": "stream",
     "text": [
      "0.623828647925\n",
      "-------------------\n",
      "[[158  77]\n",
      " [204 308]]\n"
     ]
    }
   ],
   "source": [
    "#Carregamento dos dados\n",
    "datatrain = pd.read_csv('D:/Nailson/5 periodo/GIC/league of References/agora vai/21-11/WinRateMaiorDeDezMediaEOuro.csv', sep=';')\n",
    "\n",
    "# transformando dados num array\n",
    "datatrain_array = datatrain.as_matrix()\n",
    "\n",
    "# Dividindo em treino e teste\n",
    "X_train, X_test, y_train, y_test = train_test_split(datatrain_array[:,:4], \n",
    "                                                    datatrain_array[:,4], \n",
    "                                                    test_size=0.2)\n",
    "#criando rede neural e definindo os parametro\n",
    "mlp = MLPClassifier(hidden_layer_sizes=(200),solver='adam',learning_rate_init=0.01,max_iter=1000)\n",
    "# Treino\n",
    "mlp.fit(X_train, y_train)\n",
    "# Teste\n",
    "Score = mlp.score(X_test,y_test)\n",
    "y_pred = mlp.predict(X_test)\n",
    "print(Score)\n",
    "\n",
    "print(\"-------------------\")\n",
    "\n",
    "#Criando matrix de confusão\n",
    "cm = confusion_matrix(y_pred, y_test)\n",
    "print(cm)"
   ]
  },
  {
   "cell_type": "code",
   "execution_count": null,
   "metadata": {
    "collapsed": true
   },
   "outputs": [],
   "source": []
  },
  {
   "cell_type": "code",
   "execution_count": null,
   "metadata": {
    "collapsed": true
   },
   "outputs": [],
   "source": []
  },
  {
   "cell_type": "code",
   "execution_count": null,
   "metadata": {
    "collapsed": true
   },
   "outputs": [],
   "source": []
  },
  {
   "cell_type": "code",
   "execution_count": null,
   "metadata": {
    "collapsed": true
   },
   "outputs": [],
   "source": []
  },
  {
   "cell_type": "code",
   "execution_count": null,
   "metadata": {
    "collapsed": true
   },
   "outputs": [],
   "source": []
  },
  {
   "cell_type": "code",
   "execution_count": null,
   "metadata": {
    "collapsed": true
   },
   "outputs": [],
   "source": []
  }
 ],
 "metadata": {
  "kernelspec": {
   "display_name": "Python 3",
   "language": "python",
   "name": "python3"
  },
  "language_info": {
   "codemirror_mode": {
    "name": "ipython",
    "version": 3
   },
   "file_extension": ".py",
   "mimetype": "text/x-python",
   "name": "python",
   "nbconvert_exporter": "python",
   "pygments_lexer": "ipython3",
   "version": "3.6.3"
  }
 },
 "nbformat": 4,
 "nbformat_minor": 2
}
